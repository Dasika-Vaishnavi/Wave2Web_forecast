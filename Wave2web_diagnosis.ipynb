{
  "nbformat": 4,
  "nbformat_minor": 0,
  "metadata": {
    "colab": {
      "name": "Wave2web_diagnosis.ipynb",
      "provenance": [],
      "authorship_tag": "ABX9TyPg/rtB610sIDJNlOkLbeKO",
      "include_colab_link": true
    },
    "kernelspec": {
      "name": "python3",
      "display_name": "Python 3"
    },
    "language_info": {
      "name": "python"
    },
    "widgets": {
      "application/vnd.jupyter.widget-state+json": {
        "d0c82f01811a4e7d943555b56befa302": {
          "model_module": "@jupyter-widgets/controls",
          "model_name": "HBoxModel",
          "state": {
            "_view_name": "HBoxView",
            "_dom_classes": [],
            "_model_name": "HBoxModel",
            "_view_module": "@jupyter-widgets/controls",
            "_model_module_version": "1.5.0",
            "_view_count": null,
            "_view_module_version": "1.5.0",
            "box_style": "",
            "layout": "IPY_MODEL_a09c4851d79842d2ac79b40d02e61ea6",
            "_model_module": "@jupyter-widgets/controls",
            "children": [
              "IPY_MODEL_744fdc196ba447ef96fce6049608a07e",
              "IPY_MODEL_9c2b0f491cb54c4e8080783c8a12305b"
            ]
          }
        },
        "a09c4851d79842d2ac79b40d02e61ea6": {
          "model_module": "@jupyter-widgets/base",
          "model_name": "LayoutModel",
          "state": {
            "_view_name": "LayoutView",
            "grid_template_rows": null,
            "right": null,
            "justify_content": null,
            "_view_module": "@jupyter-widgets/base",
            "overflow": null,
            "_model_module_version": "1.2.0",
            "_view_count": null,
            "flex_flow": null,
            "width": null,
            "min_width": null,
            "border": null,
            "align_items": null,
            "bottom": null,
            "_model_module": "@jupyter-widgets/base",
            "top": null,
            "grid_column": null,
            "overflow_y": null,
            "overflow_x": null,
            "grid_auto_flow": null,
            "grid_area": null,
            "grid_template_columns": null,
            "flex": null,
            "_model_name": "LayoutModel",
            "justify_items": null,
            "grid_row": null,
            "max_height": null,
            "align_content": null,
            "visibility": null,
            "align_self": null,
            "height": null,
            "min_height": null,
            "padding": null,
            "grid_auto_rows": null,
            "grid_gap": null,
            "max_width": null,
            "order": null,
            "_view_module_version": "1.2.0",
            "grid_template_areas": null,
            "object_position": null,
            "object_fit": null,
            "grid_auto_columns": null,
            "margin": null,
            "display": null,
            "left": null
          }
        },
        "744fdc196ba447ef96fce6049608a07e": {
          "model_module": "@jupyter-widgets/controls",
          "model_name": "FloatProgressModel",
          "state": {
            "_view_name": "ProgressView",
            "style": "IPY_MODEL_3001801cff6b4954ad841c86c17b8215",
            "_dom_classes": [],
            "description": "100%",
            "_model_name": "FloatProgressModel",
            "bar_style": "success",
            "max": 15,
            "_view_module": "@jupyter-widgets/controls",
            "_model_module_version": "1.5.0",
            "value": 15,
            "_view_count": null,
            "_view_module_version": "1.5.0",
            "orientation": "horizontal",
            "min": 0,
            "description_tooltip": null,
            "_model_module": "@jupyter-widgets/controls",
            "layout": "IPY_MODEL_6bcde5e894e54f1fa6de437b6f51d175"
          }
        },
        "9c2b0f491cb54c4e8080783c8a12305b": {
          "model_module": "@jupyter-widgets/controls",
          "model_name": "HTMLModel",
          "state": {
            "_view_name": "HTMLView",
            "style": "IPY_MODEL_413babe0bf864018a8c53b1d916d3f78",
            "_dom_classes": [],
            "description": "",
            "_model_name": "HTMLModel",
            "placeholder": "​",
            "_view_module": "@jupyter-widgets/controls",
            "_model_module_version": "1.5.0",
            "value": " 15/15 [04:26&lt;00:00, 17.76s/it]",
            "_view_count": null,
            "_view_module_version": "1.5.0",
            "description_tooltip": null,
            "_model_module": "@jupyter-widgets/controls",
            "layout": "IPY_MODEL_ea6eadf613ef42cba079646902b95a09"
          }
        },
        "3001801cff6b4954ad841c86c17b8215": {
          "model_module": "@jupyter-widgets/controls",
          "model_name": "ProgressStyleModel",
          "state": {
            "_view_name": "StyleView",
            "_model_name": "ProgressStyleModel",
            "description_width": "initial",
            "_view_module": "@jupyter-widgets/base",
            "_model_module_version": "1.5.0",
            "_view_count": null,
            "_view_module_version": "1.2.0",
            "bar_color": null,
            "_model_module": "@jupyter-widgets/controls"
          }
        },
        "6bcde5e894e54f1fa6de437b6f51d175": {
          "model_module": "@jupyter-widgets/base",
          "model_name": "LayoutModel",
          "state": {
            "_view_name": "LayoutView",
            "grid_template_rows": null,
            "right": null,
            "justify_content": null,
            "_view_module": "@jupyter-widgets/base",
            "overflow": null,
            "_model_module_version": "1.2.0",
            "_view_count": null,
            "flex_flow": null,
            "width": null,
            "min_width": null,
            "border": null,
            "align_items": null,
            "bottom": null,
            "_model_module": "@jupyter-widgets/base",
            "top": null,
            "grid_column": null,
            "overflow_y": null,
            "overflow_x": null,
            "grid_auto_flow": null,
            "grid_area": null,
            "grid_template_columns": null,
            "flex": null,
            "_model_name": "LayoutModel",
            "justify_items": null,
            "grid_row": null,
            "max_height": null,
            "align_content": null,
            "visibility": null,
            "align_self": null,
            "height": null,
            "min_height": null,
            "padding": null,
            "grid_auto_rows": null,
            "grid_gap": null,
            "max_width": null,
            "order": null,
            "_view_module_version": "1.2.0",
            "grid_template_areas": null,
            "object_position": null,
            "object_fit": null,
            "grid_auto_columns": null,
            "margin": null,
            "display": null,
            "left": null
          }
        },
        "413babe0bf864018a8c53b1d916d3f78": {
          "model_module": "@jupyter-widgets/controls",
          "model_name": "DescriptionStyleModel",
          "state": {
            "_view_name": "StyleView",
            "_model_name": "DescriptionStyleModel",
            "description_width": "",
            "_view_module": "@jupyter-widgets/base",
            "_model_module_version": "1.5.0",
            "_view_count": null,
            "_view_module_version": "1.2.0",
            "_model_module": "@jupyter-widgets/controls"
          }
        },
        "ea6eadf613ef42cba079646902b95a09": {
          "model_module": "@jupyter-widgets/base",
          "model_name": "LayoutModel",
          "state": {
            "_view_name": "LayoutView",
            "grid_template_rows": null,
            "right": null,
            "justify_content": null,
            "_view_module": "@jupyter-widgets/base",
            "overflow": null,
            "_model_module_version": "1.2.0",
            "_view_count": null,
            "flex_flow": null,
            "width": null,
            "min_width": null,
            "border": null,
            "align_items": null,
            "bottom": null,
            "_model_module": "@jupyter-widgets/base",
            "top": null,
            "grid_column": null,
            "overflow_y": null,
            "overflow_x": null,
            "grid_auto_flow": null,
            "grid_area": null,
            "grid_template_columns": null,
            "flex": null,
            "_model_name": "LayoutModel",
            "justify_items": null,
            "grid_row": null,
            "max_height": null,
            "align_content": null,
            "visibility": null,
            "align_self": null,
            "height": null,
            "min_height": null,
            "padding": null,
            "grid_auto_rows": null,
            "grid_gap": null,
            "max_width": null,
            "order": null,
            "_view_module_version": "1.2.0",
            "grid_template_areas": null,
            "object_position": null,
            "object_fit": null,
            "grid_auto_columns": null,
            "margin": null,
            "display": null,
            "left": null
          }
        },
        "d1820431715e4944b0d3d6832e2dcab6": {
          "model_module": "@jupyter-widgets/controls",
          "model_name": "HBoxModel",
          "state": {
            "_view_name": "HBoxView",
            "_dom_classes": [],
            "_model_name": "HBoxModel",
            "_view_module": "@jupyter-widgets/controls",
            "_model_module_version": "1.5.0",
            "_view_count": null,
            "_view_module_version": "1.5.0",
            "box_style": "",
            "layout": "IPY_MODEL_b73292fa58e04e66bb1eecf65c43cb13",
            "_model_module": "@jupyter-widgets/controls",
            "children": [
              "IPY_MODEL_b02e475309cb43c2ab5ccaa9968e1744",
              "IPY_MODEL_40dddef04d79485ea7570a9808541eef"
            ]
          }
        },
        "b73292fa58e04e66bb1eecf65c43cb13": {
          "model_module": "@jupyter-widgets/base",
          "model_name": "LayoutModel",
          "state": {
            "_view_name": "LayoutView",
            "grid_template_rows": null,
            "right": null,
            "justify_content": null,
            "_view_module": "@jupyter-widgets/base",
            "overflow": null,
            "_model_module_version": "1.2.0",
            "_view_count": null,
            "flex_flow": null,
            "width": null,
            "min_width": null,
            "border": null,
            "align_items": null,
            "bottom": null,
            "_model_module": "@jupyter-widgets/base",
            "top": null,
            "grid_column": null,
            "overflow_y": null,
            "overflow_x": null,
            "grid_auto_flow": null,
            "grid_area": null,
            "grid_template_columns": null,
            "flex": null,
            "_model_name": "LayoutModel",
            "justify_items": null,
            "grid_row": null,
            "max_height": null,
            "align_content": null,
            "visibility": null,
            "align_self": null,
            "height": null,
            "min_height": null,
            "padding": null,
            "grid_auto_rows": null,
            "grid_gap": null,
            "max_width": null,
            "order": null,
            "_view_module_version": "1.2.0",
            "grid_template_areas": null,
            "object_position": null,
            "object_fit": null,
            "grid_auto_columns": null,
            "margin": null,
            "display": null,
            "left": null
          }
        },
        "b02e475309cb43c2ab5ccaa9968e1744": {
          "model_module": "@jupyter-widgets/controls",
          "model_name": "FloatProgressModel",
          "state": {
            "_view_name": "ProgressView",
            "style": "IPY_MODEL_fa3808d760274c1c8d3e2202acbfd8bc",
            "_dom_classes": [],
            "description": "100%",
            "_model_name": "FloatProgressModel",
            "bar_style": "success",
            "max": 3,
            "_view_module": "@jupyter-widgets/controls",
            "_model_module_version": "1.5.0",
            "value": 3,
            "_view_count": null,
            "_view_module_version": "1.5.0",
            "orientation": "horizontal",
            "min": 0,
            "description_tooltip": null,
            "_model_module": "@jupyter-widgets/controls",
            "layout": "IPY_MODEL_87561364b6ad42e58d8e752193ad0dd5"
          }
        },
        "40dddef04d79485ea7570a9808541eef": {
          "model_module": "@jupyter-widgets/controls",
          "model_name": "HTMLModel",
          "state": {
            "_view_name": "HTMLView",
            "style": "IPY_MODEL_22b9bae3bb8c4489ab000f8cb28c6110",
            "_dom_classes": [],
            "description": "",
            "_model_name": "HTMLModel",
            "placeholder": "​",
            "_view_module": "@jupyter-widgets/controls",
            "_model_module_version": "1.5.0",
            "value": " 3/3 [00:09&lt;00:00,  3.08s/it]",
            "_view_count": null,
            "_view_module_version": "1.5.0",
            "description_tooltip": null,
            "_model_module": "@jupyter-widgets/controls",
            "layout": "IPY_MODEL_a0eb896dbae447c181623f69f15fb352"
          }
        },
        "fa3808d760274c1c8d3e2202acbfd8bc": {
          "model_module": "@jupyter-widgets/controls",
          "model_name": "ProgressStyleModel",
          "state": {
            "_view_name": "StyleView",
            "_model_name": "ProgressStyleModel",
            "description_width": "initial",
            "_view_module": "@jupyter-widgets/base",
            "_model_module_version": "1.5.0",
            "_view_count": null,
            "_view_module_version": "1.2.0",
            "bar_color": null,
            "_model_module": "@jupyter-widgets/controls"
          }
        },
        "87561364b6ad42e58d8e752193ad0dd5": {
          "model_module": "@jupyter-widgets/base",
          "model_name": "LayoutModel",
          "state": {
            "_view_name": "LayoutView",
            "grid_template_rows": null,
            "right": null,
            "justify_content": null,
            "_view_module": "@jupyter-widgets/base",
            "overflow": null,
            "_model_module_version": "1.2.0",
            "_view_count": null,
            "flex_flow": null,
            "width": null,
            "min_width": null,
            "border": null,
            "align_items": null,
            "bottom": null,
            "_model_module": "@jupyter-widgets/base",
            "top": null,
            "grid_column": null,
            "overflow_y": null,
            "overflow_x": null,
            "grid_auto_flow": null,
            "grid_area": null,
            "grid_template_columns": null,
            "flex": null,
            "_model_name": "LayoutModel",
            "justify_items": null,
            "grid_row": null,
            "max_height": null,
            "align_content": null,
            "visibility": null,
            "align_self": null,
            "height": null,
            "min_height": null,
            "padding": null,
            "grid_auto_rows": null,
            "grid_gap": null,
            "max_width": null,
            "order": null,
            "_view_module_version": "1.2.0",
            "grid_template_areas": null,
            "object_position": null,
            "object_fit": null,
            "grid_auto_columns": null,
            "margin": null,
            "display": null,
            "left": null
          }
        },
        "22b9bae3bb8c4489ab000f8cb28c6110": {
          "model_module": "@jupyter-widgets/controls",
          "model_name": "DescriptionStyleModel",
          "state": {
            "_view_name": "StyleView",
            "_model_name": "DescriptionStyleModel",
            "description_width": "",
            "_view_module": "@jupyter-widgets/base",
            "_model_module_version": "1.5.0",
            "_view_count": null,
            "_view_module_version": "1.2.0",
            "_model_module": "@jupyter-widgets/controls"
          }
        },
        "a0eb896dbae447c181623f69f15fb352": {
          "model_module": "@jupyter-widgets/base",
          "model_name": "LayoutModel",
          "state": {
            "_view_name": "LayoutView",
            "grid_template_rows": null,
            "right": null,
            "justify_content": null,
            "_view_module": "@jupyter-widgets/base",
            "overflow": null,
            "_model_module_version": "1.2.0",
            "_view_count": null,
            "flex_flow": null,
            "width": null,
            "min_width": null,
            "border": null,
            "align_items": null,
            "bottom": null,
            "_model_module": "@jupyter-widgets/base",
            "top": null,
            "grid_column": null,
            "overflow_y": null,
            "overflow_x": null,
            "grid_auto_flow": null,
            "grid_area": null,
            "grid_template_columns": null,
            "flex": null,
            "_model_name": "LayoutModel",
            "justify_items": null,
            "grid_row": null,
            "max_height": null,
            "align_content": null,
            "visibility": null,
            "align_self": null,
            "height": null,
            "min_height": null,
            "padding": null,
            "grid_auto_rows": null,
            "grid_gap": null,
            "max_width": null,
            "order": null,
            "_view_module_version": "1.2.0",
            "grid_template_areas": null,
            "object_position": null,
            "object_fit": null,
            "grid_auto_columns": null,
            "margin": null,
            "display": null,
            "left": null
          }
        }
      }
    }
  },
  "cells": [
    {
      "cell_type": "markdown",
      "metadata": {
        "id": "view-in-github",
        "colab_type": "text"
      },
      "source": [
        "<a href=\"https://colab.research.google.com/github/Dasika-Vaishnavi/Wave2Web_forecast/blob/main/Wave2web_diagnosis.ipynb\" target=\"_parent\"><img src=\"https://colab.research.google.com/assets/colab-badge.svg\" alt=\"Open In Colab\"/></a>"
      ]
    },
    {
      "cell_type": "code",
      "metadata": {
        "id": "WeCTMCP7Afwz"
      },
      "source": [
        "import warnings; \n",
        "warnings.simplefilter('ignore')"
      ],
      "execution_count": 1,
      "outputs": []
    },
    {
      "cell_type": "code",
      "metadata": {
        "colab": {
          "base_uri": "https://localhost:8080/"
        },
        "id": "ZjQ35cP0_tAW",
        "outputId": "f935b99c-5845-4e48-8517-890b2a5f0cb8"
      },
      "source": [
        "!pip install pandas\n",
        "!pip install prophet"
      ],
      "execution_count": 2,
      "outputs": [
        {
          "output_type": "stream",
          "text": [
            "Requirement already satisfied: pandas in /usr/local/lib/python3.7/dist-packages (1.1.5)\n",
            "Requirement already satisfied: python-dateutil>=2.7.3 in /usr/local/lib/python3.7/dist-packages (from pandas) (2.8.1)\n",
            "Requirement already satisfied: numpy>=1.15.4 in /usr/local/lib/python3.7/dist-packages (from pandas) (1.19.5)\n",
            "Requirement already satisfied: pytz>=2017.2 in /usr/local/lib/python3.7/dist-packages (from pandas) (2018.9)\n",
            "Requirement already satisfied: six>=1.5 in /usr/local/lib/python3.7/dist-packages (from python-dateutil>=2.7.3->pandas) (1.15.0)\n",
            "Collecting prophet\n",
            "  Downloading prophet-1.0.1.tar.gz (65 kB)\n",
            "\u001b[K     |████████████████████████████████| 65 kB 2.5 MB/s \n",
            "\u001b[?25hRequirement already satisfied: Cython>=0.22 in /usr/local/lib/python3.7/dist-packages (from prophet) (0.29.23)\n",
            "Collecting cmdstanpy==0.9.68\n",
            "  Downloading cmdstanpy-0.9.68-py3-none-any.whl (49 kB)\n",
            "\u001b[K     |████████████████████████████████| 49 kB 5.5 MB/s \n",
            "\u001b[?25hRequirement already satisfied: pystan~=2.19.1.1 in /usr/local/lib/python3.7/dist-packages (from prophet) (2.19.1.1)\n",
            "Requirement already satisfied: numpy>=1.15.4 in /usr/local/lib/python3.7/dist-packages (from prophet) (1.19.5)\n",
            "Requirement already satisfied: pandas>=1.0.4 in /usr/local/lib/python3.7/dist-packages (from prophet) (1.1.5)\n",
            "Requirement already satisfied: matplotlib>=2.0.0 in /usr/local/lib/python3.7/dist-packages (from prophet) (3.2.2)\n",
            "Requirement already satisfied: LunarCalendar>=0.0.9 in /usr/local/lib/python3.7/dist-packages (from prophet) (0.0.9)\n",
            "Requirement already satisfied: convertdate>=2.1.2 in /usr/local/lib/python3.7/dist-packages (from prophet) (2.3.2)\n",
            "Requirement already satisfied: holidays>=0.10.2 in /usr/local/lib/python3.7/dist-packages (from prophet) (0.10.5.2)\n",
            "Requirement already satisfied: setuptools-git>=1.2 in /usr/local/lib/python3.7/dist-packages (from prophet) (1.2)\n",
            "Requirement already satisfied: python-dateutil>=2.8.0 in /usr/local/lib/python3.7/dist-packages (from prophet) (2.8.1)\n",
            "Requirement already satisfied: tqdm>=4.36.1 in /usr/local/lib/python3.7/dist-packages (from prophet) (4.41.1)\n",
            "Collecting ujson\n",
            "  Downloading ujson-4.0.2-cp37-cp37m-manylinux1_x86_64.whl (179 kB)\n",
            "\u001b[K     |████████████████████████████████| 179 kB 18.6 MB/s \n",
            "\u001b[?25hRequirement already satisfied: pytz>=2014.10 in /usr/local/lib/python3.7/dist-packages (from convertdate>=2.1.2->prophet) (2018.9)\n",
            "Requirement already satisfied: pymeeus<=1,>=0.3.13 in /usr/local/lib/python3.7/dist-packages (from convertdate>=2.1.2->prophet) (0.5.11)\n",
            "Requirement already satisfied: korean-lunar-calendar in /usr/local/lib/python3.7/dist-packages (from holidays>=0.10.2->prophet) (0.2.1)\n",
            "Requirement already satisfied: six in /usr/local/lib/python3.7/dist-packages (from holidays>=0.10.2->prophet) (1.15.0)\n",
            "Requirement already satisfied: hijri-converter in /usr/local/lib/python3.7/dist-packages (from holidays>=0.10.2->prophet) (2.1.3)\n",
            "Requirement already satisfied: ephem>=3.7.5.3 in /usr/local/lib/python3.7/dist-packages (from LunarCalendar>=0.0.9->prophet) (4.0.0.2)\n",
            "Requirement already satisfied: pyparsing!=2.0.4,!=2.1.2,!=2.1.6,>=2.0.1 in /usr/local/lib/python3.7/dist-packages (from matplotlib>=2.0.0->prophet) (2.4.7)\n",
            "Requirement already satisfied: cycler>=0.10 in /usr/local/lib/python3.7/dist-packages (from matplotlib>=2.0.0->prophet) (0.10.0)\n",
            "Requirement already satisfied: kiwisolver>=1.0.1 in /usr/local/lib/python3.7/dist-packages (from matplotlib>=2.0.0->prophet) (1.3.1)\n",
            "Building wheels for collected packages: prophet\n",
            "  Building wheel for prophet (setup.py) ... \u001b[?25l\u001b[?25hdone\n",
            "  Created wheel for prophet: filename=prophet-1.0.1-py3-none-any.whl size=6638876 sha256=38fadcbe362cc7aec45ab3b0c4bf08ae2a9b905903f8a6cf88d382f854aecd41\n",
            "  Stored in directory: /root/.cache/pip/wheels/4e/a0/1a/02c9ec9e3e9de6bdbb3d769d11992a6926889d71567d6b9b67\n",
            "Successfully built prophet\n",
            "Installing collected packages: ujson, cmdstanpy, prophet\n",
            "  Attempting uninstall: cmdstanpy\n",
            "    Found existing installation: cmdstanpy 0.9.5\n",
            "    Uninstalling cmdstanpy-0.9.5:\n",
            "      Successfully uninstalled cmdstanpy-0.9.5\n",
            "\u001b[31mERROR: pip's dependency resolver does not currently take into account all the packages that are installed. This behaviour is the source of the following dependency conflicts.\n",
            "fbprophet 0.7.1 requires cmdstanpy==0.9.5, but you have cmdstanpy 0.9.68 which is incompatible.\u001b[0m\n",
            "Successfully installed cmdstanpy-0.9.68 prophet-1.0.1 ujson-4.0.2\n"
          ],
          "name": "stdout"
        }
      ]
    },
    {
      "cell_type": "markdown",
      "metadata": {
        "id": "jlt481KhA2f5"
      },
      "source": [
        "# 0. Install and import dependencies"
      ]
    },
    {
      "cell_type": "code",
      "metadata": {
        "id": "LM5XJwouBBRt"
      },
      "source": [
        "import pandas as pd\n",
        "from prophet import Prophet"
      ],
      "execution_count": 3,
      "outputs": []
    },
    {
      "cell_type": "markdown",
      "metadata": {
        "id": "K796dhSlBD7o"
      },
      "source": [
        "# 1. Read and process data"
      ]
    },
    {
      "cell_type": "code",
      "metadata": {
        "colab": {
          "base_uri": "https://localhost:8080/",
          "height": 195
        },
        "id": "xVILX0hsBIRc",
        "outputId": "9a6fca5b-a84f-48d8-e43e-0902043a08f9"
      },
      "source": [
        "df = pd.read_csv('/content/picchi_peaks.csv')\n",
        "df['Year'] = df['FLOW_DATE'].apply(lambda x: str(x)[-4:])\n",
        "df['Month'] = df['FLOW_DATE'].apply(lambda x: str(x)[-6:-4])\n",
        "df['Day'] = df['FLOW_DATE'].apply(lambda x: str(x)[:-6])\n",
        "df['ds'] = pd.DatetimeIndex(df['Day']+'-'+df['Year'])\n",
        "df.drop(['FLOW_DATE', 'Year', 'Month', 'Day'], axis=1, inplace=True)\n",
        "df.head()"
      ],
      "execution_count": 4,
      "outputs": [
        {
          "output_type": "execute_result",
          "data": {
            "text/html": [
              "<div>\n",
              "<style scoped>\n",
              "    .dataframe tbody tr th:only-of-type {\n",
              "        vertical-align: middle;\n",
              "    }\n",
              "\n",
              "    .dataframe tbody tr th {\n",
              "        vertical-align: top;\n",
              "    }\n",
              "\n",
              "    .dataframe thead th {\n",
              "        text-align: right;\n",
              "    }\n",
              "</style>\n",
              "<table border=\"1\" class=\"dataframe\">\n",
              "  <thead>\n",
              "    <tr style=\"text-align: right;\">\n",
              "      <th></th>\n",
              "      <th>y</th>\n",
              "      <th>ds</th>\n",
              "    </tr>\n",
              "  </thead>\n",
              "  <tbody>\n",
              "    <tr>\n",
              "      <th>0</th>\n",
              "      <td>46.42</td>\n",
              "      <td>2011-01-01</td>\n",
              "    </tr>\n",
              "    <tr>\n",
              "      <th>1</th>\n",
              "      <td>46.54</td>\n",
              "      <td>2011-01-01</td>\n",
              "    </tr>\n",
              "    <tr>\n",
              "      <th>2</th>\n",
              "      <td>46.64</td>\n",
              "      <td>2011-01-01</td>\n",
              "    </tr>\n",
              "    <tr>\n",
              "      <th>3</th>\n",
              "      <td>46.69</td>\n",
              "      <td>2011-01-01</td>\n",
              "    </tr>\n",
              "    <tr>\n",
              "      <th>4</th>\n",
              "      <td>46.70</td>\n",
              "      <td>2011-01-01</td>\n",
              "    </tr>\n",
              "  </tbody>\n",
              "</table>\n",
              "</div>"
            ],
            "text/plain": [
              "       y         ds\n",
              "0  46.42 2011-01-01\n",
              "1  46.54 2011-01-01\n",
              "2  46.64 2011-01-01\n",
              "3  46.69 2011-01-01\n",
              "4  46.70 2011-01-01"
            ]
          },
          "metadata": {
            "tags": []
          },
          "execution_count": 4
        }
      ]
    },
    {
      "cell_type": "markdown",
      "metadata": {
        "id": "4Pkyeq2wBRMw"
      },
      "source": [
        "# 2. Train the model"
      ]
    },
    {
      "cell_type": "code",
      "metadata": {
        "id": "4-pH-EhNBUnr"
      },
      "source": [
        "m = Prophet(interval_width=0.95, daily_seasonality=True)\n",
        "model = m.fit(df)"
      ],
      "execution_count": 5,
      "outputs": []
    },
    {
      "cell_type": "markdown",
      "metadata": {
        "id": "S5u4WKt1BYsJ"
      },
      "source": [
        "# 3. Forecasting the data"
      ]
    },
    {
      "cell_type": "code",
      "metadata": {
        "colab": {
          "base_uri": "https://localhost:8080/",
          "height": 299
        },
        "id": "K2tmACf6BeFw",
        "outputId": "78f7776f-9804-4fb2-b5f4-cc34a8958cd1"
      },
      "source": [
        "future = m.make_future_dataframe(periods=100,freq='D')\n",
        "forecast = m.predict(future)\n",
        "forecast.head()"
      ],
      "execution_count": null,
      "outputs": [
        {
          "output_type": "execute_result",
          "data": {
            "text/html": [
              "<div>\n",
              "<style scoped>\n",
              "    .dataframe tbody tr th:only-of-type {\n",
              "        vertical-align: middle;\n",
              "    }\n",
              "\n",
              "    .dataframe tbody tr th {\n",
              "        vertical-align: top;\n",
              "    }\n",
              "\n",
              "    .dataframe thead th {\n",
              "        text-align: right;\n",
              "    }\n",
              "</style>\n",
              "<table border=\"1\" class=\"dataframe\">\n",
              "  <thead>\n",
              "    <tr style=\"text-align: right;\">\n",
              "      <th></th>\n",
              "      <th>ds</th>\n",
              "      <th>trend</th>\n",
              "      <th>yhat_lower</th>\n",
              "      <th>yhat_upper</th>\n",
              "      <th>trend_lower</th>\n",
              "      <th>trend_upper</th>\n",
              "      <th>additive_terms</th>\n",
              "      <th>additive_terms_lower</th>\n",
              "      <th>additive_terms_upper</th>\n",
              "      <th>daily</th>\n",
              "      <th>daily_lower</th>\n",
              "      <th>daily_upper</th>\n",
              "      <th>weekly</th>\n",
              "      <th>weekly_lower</th>\n",
              "      <th>weekly_upper</th>\n",
              "      <th>yearly</th>\n",
              "      <th>yearly_lower</th>\n",
              "      <th>yearly_upper</th>\n",
              "      <th>multiplicative_terms</th>\n",
              "      <th>multiplicative_terms_lower</th>\n",
              "      <th>multiplicative_terms_upper</th>\n",
              "      <th>yhat</th>\n",
              "    </tr>\n",
              "  </thead>\n",
              "  <tbody>\n",
              "    <tr>\n",
              "      <th>0</th>\n",
              "      <td>2010-09-03</td>\n",
              "      <td>46.058854</td>\n",
              "      <td>45.633372</td>\n",
              "      <td>70.003411</td>\n",
              "      <td>46.058854</td>\n",
              "      <td>46.058854</td>\n",
              "      <td>11.620017</td>\n",
              "      <td>11.620017</td>\n",
              "      <td>11.620017</td>\n",
              "      <td>1.036155</td>\n",
              "      <td>1.036155</td>\n",
              "      <td>1.036155</td>\n",
              "      <td>0.193177</td>\n",
              "      <td>0.193177</td>\n",
              "      <td>0.193177</td>\n",
              "      <td>10.390685</td>\n",
              "      <td>10.390685</td>\n",
              "      <td>10.390685</td>\n",
              "      <td>0.0</td>\n",
              "      <td>0.0</td>\n",
              "      <td>0.0</td>\n",
              "      <td>57.678871</td>\n",
              "    </tr>\n",
              "    <tr>\n",
              "      <th>1</th>\n",
              "      <td>2010-12-03</td>\n",
              "      <td>42.335766</td>\n",
              "      <td>37.847051</td>\n",
              "      <td>62.413921</td>\n",
              "      <td>42.335766</td>\n",
              "      <td>42.335766</td>\n",
              "      <td>7.113038</td>\n",
              "      <td>7.113038</td>\n",
              "      <td>7.113038</td>\n",
              "      <td>1.036155</td>\n",
              "      <td>1.036155</td>\n",
              "      <td>1.036155</td>\n",
              "      <td>0.193177</td>\n",
              "      <td>0.193177</td>\n",
              "      <td>0.193177</td>\n",
              "      <td>5.883706</td>\n",
              "      <td>5.883706</td>\n",
              "      <td>5.883706</td>\n",
              "      <td>0.0</td>\n",
              "      <td>0.0</td>\n",
              "      <td>0.0</td>\n",
              "      <td>49.448804</td>\n",
              "    </tr>\n",
              "    <tr>\n",
              "      <th>2</th>\n",
              "      <td>2011-01-01</td>\n",
              "      <td>41.149287</td>\n",
              "      <td>32.468721</td>\n",
              "      <td>58.232895</td>\n",
              "      <td>41.149287</td>\n",
              "      <td>41.149287</td>\n",
              "      <td>4.769734</td>\n",
              "      <td>4.769734</td>\n",
              "      <td>4.769734</td>\n",
              "      <td>1.036155</td>\n",
              "      <td>1.036155</td>\n",
              "      <td>1.036155</td>\n",
              "      <td>0.076082</td>\n",
              "      <td>0.076082</td>\n",
              "      <td>0.076082</td>\n",
              "      <td>3.657498</td>\n",
              "      <td>3.657498</td>\n",
              "      <td>3.657498</td>\n",
              "      <td>0.0</td>\n",
              "      <td>0.0</td>\n",
              "      <td>0.0</td>\n",
              "      <td>45.919021</td>\n",
              "    </tr>\n",
              "    <tr>\n",
              "      <th>3</th>\n",
              "      <td>2011-01-02</td>\n",
              "      <td>41.108374</td>\n",
              "      <td>33.979227</td>\n",
              "      <td>57.165635</td>\n",
              "      <td>41.108374</td>\n",
              "      <td>41.108374</td>\n",
              "      <td>4.555793</td>\n",
              "      <td>4.555793</td>\n",
              "      <td>4.555793</td>\n",
              "      <td>1.036155</td>\n",
              "      <td>1.036155</td>\n",
              "      <td>1.036155</td>\n",
              "      <td>0.305051</td>\n",
              "      <td>0.305051</td>\n",
              "      <td>0.305051</td>\n",
              "      <td>3.214588</td>\n",
              "      <td>3.214588</td>\n",
              "      <td>3.214588</td>\n",
              "      <td>0.0</td>\n",
              "      <td>0.0</td>\n",
              "      <td>0.0</td>\n",
              "      <td>45.664167</td>\n",
              "    </tr>\n",
              "    <tr>\n",
              "      <th>4</th>\n",
              "      <td>2011-01-03</td>\n",
              "      <td>41.067461</td>\n",
              "      <td>32.602509</td>\n",
              "      <td>57.454095</td>\n",
              "      <td>41.067461</td>\n",
              "      <td>41.067461</td>\n",
              "      <td>4.011792</td>\n",
              "      <td>4.011792</td>\n",
              "      <td>4.011792</td>\n",
              "      <td>1.036155</td>\n",
              "      <td>1.036155</td>\n",
              "      <td>1.036155</td>\n",
              "      <td>0.351497</td>\n",
              "      <td>0.351497</td>\n",
              "      <td>0.351497</td>\n",
              "      <td>2.624141</td>\n",
              "      <td>2.624141</td>\n",
              "      <td>2.624141</td>\n",
              "      <td>0.0</td>\n",
              "      <td>0.0</td>\n",
              "      <td>0.0</td>\n",
              "      <td>45.079253</td>\n",
              "    </tr>\n",
              "  </tbody>\n",
              "</table>\n",
              "</div>"
            ],
            "text/plain": [
              "          ds      trend  ...  multiplicative_terms_upper       yhat\n",
              "0 2010-09-03  46.058854  ...                         0.0  57.678871\n",
              "1 2010-12-03  42.335766  ...                         0.0  49.448804\n",
              "2 2011-01-01  41.149287  ...                         0.0  45.919021\n",
              "3 2011-01-02  41.108374  ...                         0.0  45.664167\n",
              "4 2011-01-03  41.067461  ...                         0.0  45.079253\n",
              "\n",
              "[5 rows x 22 columns]"
            ]
          },
          "metadata": {
            "tags": []
          },
          "execution_count": 38
        }
      ]
    },
    {
      "cell_type": "markdown",
      "metadata": {
        "id": "59b-zjsxzr3p"
      },
      "source": [
        "# 4. Diagnostics"
      ]
    },
    {
      "cell_type": "markdown",
      "metadata": {
        "id": "H-D8HeV6z7Fd"
      },
      "source": [
        "## 4.1. Cross validation\n",
        "### Prophet includes functionality for time series cross validation to measure forecast error using historical data. This is done by selecting cutoff points in the history, and for each of them fitting the model using data only up to that cutoff point. We can then compare the forecasted values to the actual values."
      ]
    },
    {
      "cell_type": "code",
      "metadata": {
        "colab": {
          "base_uri": "https://localhost:8080/",
          "height": 82,
          "referenced_widgets": [
            "d0c82f01811a4e7d943555b56befa302",
            "a09c4851d79842d2ac79b40d02e61ea6",
            "744fdc196ba447ef96fce6049608a07e",
            "9c2b0f491cb54c4e8080783c8a12305b",
            "3001801cff6b4954ad841c86c17b8215",
            "6bcde5e894e54f1fa6de437b6f51d175",
            "413babe0bf864018a8c53b1d916d3f78",
            "ea6eadf613ef42cba079646902b95a09"
          ]
        },
        "id": "A7u44an8zwoX",
        "outputId": "1c7540fd-6309-40d9-c1eb-71283dcc6f73"
      },
      "source": [
        "from prophet.diagnostics import cross_validation\n",
        "df_cv = cross_validation(m, initial='730 days', period='180 days', horizon = '365 days')"
      ],
      "execution_count": 6,
      "outputs": [
        {
          "output_type": "stream",
          "text": [
            "INFO:prophet:Making 15 forecasts with cutoffs between 2013-01-07 00:00:00 and 2019-12-02 00:00:00\n"
          ],
          "name": "stderr"
        },
        {
          "output_type": "display_data",
          "data": {
            "application/vnd.jupyter.widget-view+json": {
              "model_id": "d0c82f01811a4e7d943555b56befa302",
              "version_minor": 0,
              "version_major": 2
            },
            "text/plain": [
              "HBox(children=(FloatProgress(value=0.0, max=15.0), HTML(value='')))"
            ]
          },
          "metadata": {
            "tags": []
          }
        },
        {
          "output_type": "stream",
          "text": [
            "\n"
          ],
          "name": "stdout"
        }
      ]
    },
    {
      "cell_type": "markdown",
      "metadata": {
        "id": "9bOriOeJ0avD"
      },
      "source": [
        "### Here we do cross-validation to assess prediction performance on a horizon of 365 days, starting with 730 days of training data in the first cutoff and then making predictions every 180 days. On this 8 year time series, this corresponds to 11 total forecasts"
      ]
    },
    {
      "cell_type": "code",
      "metadata": {
        "colab": {
          "base_uri": "https://localhost:8080/",
          "height": 195
        },
        "id": "QuAAYDNw0DJL",
        "outputId": "b1ecd40f-2159-44aa-d112-e4f94d678b52"
      },
      "source": [
        "df_cv.head()"
      ],
      "execution_count": 7,
      "outputs": [
        {
          "output_type": "execute_result",
          "data": {
            "text/html": [
              "<div>\n",
              "<style scoped>\n",
              "    .dataframe tbody tr th:only-of-type {\n",
              "        vertical-align: middle;\n",
              "    }\n",
              "\n",
              "    .dataframe tbody tr th {\n",
              "        vertical-align: top;\n",
              "    }\n",
              "\n",
              "    .dataframe thead th {\n",
              "        text-align: right;\n",
              "    }\n",
              "</style>\n",
              "<table border=\"1\" class=\"dataframe\">\n",
              "  <thead>\n",
              "    <tr style=\"text-align: right;\">\n",
              "      <th></th>\n",
              "      <th>ds</th>\n",
              "      <th>yhat</th>\n",
              "      <th>yhat_lower</th>\n",
              "      <th>yhat_upper</th>\n",
              "      <th>y</th>\n",
              "      <th>cutoff</th>\n",
              "    </tr>\n",
              "  </thead>\n",
              "  <tbody>\n",
              "    <tr>\n",
              "      <th>0</th>\n",
              "      <td>2013-02-01</td>\n",
              "      <td>9.149717</td>\n",
              "      <td>3.570928</td>\n",
              "      <td>14.711747</td>\n",
              "      <td>11.42</td>\n",
              "      <td>2013-01-07</td>\n",
              "    </tr>\n",
              "    <tr>\n",
              "      <th>1</th>\n",
              "      <td>2013-02-01</td>\n",
              "      <td>9.149717</td>\n",
              "      <td>3.428742</td>\n",
              "      <td>14.838433</td>\n",
              "      <td>11.43</td>\n",
              "      <td>2013-01-07</td>\n",
              "    </tr>\n",
              "    <tr>\n",
              "      <th>2</th>\n",
              "      <td>2013-02-01</td>\n",
              "      <td>9.149717</td>\n",
              "      <td>3.305308</td>\n",
              "      <td>14.489686</td>\n",
              "      <td>12.14</td>\n",
              "      <td>2013-01-07</td>\n",
              "    </tr>\n",
              "    <tr>\n",
              "      <th>3</th>\n",
              "      <td>2013-02-01</td>\n",
              "      <td>9.149717</td>\n",
              "      <td>3.906284</td>\n",
              "      <td>14.788559</td>\n",
              "      <td>11.41</td>\n",
              "      <td>2013-01-07</td>\n",
              "    </tr>\n",
              "    <tr>\n",
              "      <th>4</th>\n",
              "      <td>2013-06-01</td>\n",
              "      <td>-13.972450</td>\n",
              "      <td>-20.118753</td>\n",
              "      <td>-8.423479</td>\n",
              "      <td>5.11</td>\n",
              "      <td>2013-01-07</td>\n",
              "    </tr>\n",
              "  </tbody>\n",
              "</table>\n",
              "</div>"
            ],
            "text/plain": [
              "          ds       yhat  yhat_lower  yhat_upper      y     cutoff\n",
              "0 2013-02-01   9.149717    3.570928   14.711747  11.42 2013-01-07\n",
              "1 2013-02-01   9.149717    3.428742   14.838433  11.43 2013-01-07\n",
              "2 2013-02-01   9.149717    3.305308   14.489686  12.14 2013-01-07\n",
              "3 2013-02-01   9.149717    3.906284   14.788559  11.41 2013-01-07\n",
              "4 2013-06-01 -13.972450  -20.118753   -8.423479   5.11 2013-01-07"
            ]
          },
          "metadata": {
            "tags": []
          },
          "execution_count": 7
        }
      ]
    },
    {
      "cell_type": "markdown",
      "metadata": {
        "id": "wSrJ-ZLC0lg7"
      },
      "source": [
        "### Custom cutoffs can also be supplied as a list of dates to the cutoffs keyword in the cross_validation function in Python and R. For example, three cutoffs six months apart, would need to be passed to the cutoffs argument in a date format like"
      ]
    },
    {
      "cell_type": "code",
      "metadata": {
        "colab": {
          "base_uri": "https://localhost:8080/",
          "height": 66,
          "referenced_widgets": [
            "d1820431715e4944b0d3d6832e2dcab6",
            "b73292fa58e04e66bb1eecf65c43cb13",
            "b02e475309cb43c2ab5ccaa9968e1744",
            "40dddef04d79485ea7570a9808541eef",
            "fa3808d760274c1c8d3e2202acbfd8bc",
            "87561364b6ad42e58d8e752193ad0dd5",
            "22b9bae3bb8c4489ab000f8cb28c6110",
            "a0eb896dbae447c181623f69f15fb352"
          ]
        },
        "id": "nmPOVbDc0eIP",
        "outputId": "1594ad61-32d9-4883-b93e-f30224ded0f4"
      },
      "source": [
        "cutoffs = pd.to_datetime(['2013-02-15', '2013-08-15', '2014-02-15'])\n",
        "df_cv2 = cross_validation(m, cutoffs=cutoffs, horizon='365 days')"
      ],
      "execution_count": 8,
      "outputs": [
        {
          "output_type": "display_data",
          "data": {
            "application/vnd.jupyter.widget-view+json": {
              "model_id": "d1820431715e4944b0d3d6832e2dcab6",
              "version_minor": 0,
              "version_major": 2
            },
            "text/plain": [
              "HBox(children=(FloatProgress(value=0.0, max=3.0), HTML(value='')))"
            ]
          },
          "metadata": {
            "tags": []
          }
        },
        {
          "output_type": "stream",
          "text": [
            "\n"
          ],
          "name": "stdout"
        }
      ]
    },
    {
      "cell_type": "markdown",
      "metadata": {
        "id": "-7D7nrrN0-jv"
      },
      "source": [
        "### The performance_metrics utility can be used to compute some useful statistics of the prediction performance (yhat, yhat_lower, and yhat_upper compared to y), as a function of the distance from the cutoff (how far into the future the prediction was)"
      ]
    },
    {
      "cell_type": "code",
      "metadata": {
        "colab": {
          "base_uri": "https://localhost:8080/",
          "height": 212
        },
        "id": "3rYXzHfB03Os",
        "outputId": "b702b79e-503f-4093-af86-38fd13698a1a"
      },
      "source": [
        "from prophet.diagnostics import performance_metrics\n",
        "df_p = performance_metrics(df_cv)\n",
        "df_p.head()"
      ],
      "execution_count": 9,
      "outputs": [
        {
          "output_type": "stream",
          "text": [
            "INFO:prophet:Skipping MAPE because y close to 0\n"
          ],
          "name": "stderr"
        },
        {
          "output_type": "execute_result",
          "data": {
            "text/html": [
              "<div>\n",
              "<style scoped>\n",
              "    .dataframe tbody tr th:only-of-type {\n",
              "        vertical-align: middle;\n",
              "    }\n",
              "\n",
              "    .dataframe tbody tr th {\n",
              "        vertical-align: top;\n",
              "    }\n",
              "\n",
              "    .dataframe thead th {\n",
              "        text-align: right;\n",
              "    }\n",
              "</style>\n",
              "<table border=\"1\" class=\"dataframe\">\n",
              "  <thead>\n",
              "    <tr style=\"text-align: right;\">\n",
              "      <th></th>\n",
              "      <th>horizon</th>\n",
              "      <th>mse</th>\n",
              "      <th>rmse</th>\n",
              "      <th>mae</th>\n",
              "      <th>mdape</th>\n",
              "      <th>smape</th>\n",
              "      <th>coverage</th>\n",
              "    </tr>\n",
              "  </thead>\n",
              "  <tbody>\n",
              "    <tr>\n",
              "      <th>0</th>\n",
              "      <td>41 days</td>\n",
              "      <td>109.531010</td>\n",
              "      <td>10.465706</td>\n",
              "      <td>8.069232</td>\n",
              "      <td>0.236358</td>\n",
              "      <td>0.317942</td>\n",
              "      <td>0.690342</td>\n",
              "    </tr>\n",
              "    <tr>\n",
              "      <th>1</th>\n",
              "      <td>42 days</td>\n",
              "      <td>110.612125</td>\n",
              "      <td>10.517230</td>\n",
              "      <td>8.218065</td>\n",
              "      <td>0.262047</td>\n",
              "      <td>0.324341</td>\n",
              "      <td>0.694915</td>\n",
              "    </tr>\n",
              "    <tr>\n",
              "      <th>2</th>\n",
              "      <td>43 days</td>\n",
              "      <td>111.977796</td>\n",
              "      <td>10.581956</td>\n",
              "      <td>8.345423</td>\n",
              "      <td>0.280285</td>\n",
              "      <td>0.330152</td>\n",
              "      <td>0.690954</td>\n",
              "    </tr>\n",
              "    <tr>\n",
              "      <th>3</th>\n",
              "      <td>44 days</td>\n",
              "      <td>112.155012</td>\n",
              "      <td>10.590326</td>\n",
              "      <td>8.357869</td>\n",
              "      <td>0.280285</td>\n",
              "      <td>0.330893</td>\n",
              "      <td>0.690759</td>\n",
              "    </tr>\n",
              "    <tr>\n",
              "      <th>4</th>\n",
              "      <td>46 days</td>\n",
              "      <td>112.092784</td>\n",
              "      <td>10.587388</td>\n",
              "      <td>8.374499</td>\n",
              "      <td>0.288554</td>\n",
              "      <td>0.360431</td>\n",
              "      <td>0.706799</td>\n",
              "    </tr>\n",
              "  </tbody>\n",
              "</table>\n",
              "</div>"
            ],
            "text/plain": [
              "  horizon         mse       rmse       mae     mdape     smape  coverage\n",
              "0 41 days  109.531010  10.465706  8.069232  0.236358  0.317942  0.690342\n",
              "1 42 days  110.612125  10.517230  8.218065  0.262047  0.324341  0.694915\n",
              "2 43 days  111.977796  10.581956  8.345423  0.280285  0.330152  0.690954\n",
              "3 44 days  112.155012  10.590326  8.357869  0.280285  0.330893  0.690759\n",
              "4 46 days  112.092784  10.587388  8.374499  0.288554  0.360431  0.706799"
            ]
          },
          "metadata": {
            "tags": []
          },
          "execution_count": 9
        }
      ]
    }
  ]
}