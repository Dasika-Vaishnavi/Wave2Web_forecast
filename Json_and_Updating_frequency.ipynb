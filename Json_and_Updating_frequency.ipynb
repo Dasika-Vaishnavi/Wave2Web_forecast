{
  "nbformat": 4,
  "nbformat_minor": 0,
  "metadata": {
    "colab": {
      "name": "Json and Updating_frequency.ipynb",
      "provenance": [],
      "authorship_tag": "ABX9TyMjqqibJAgNhXEPkM7tI+dO",
      "include_colab_link": true
    },
    "kernelspec": {
      "name": "python3",
      "display_name": "Python 3"
    },
    "language_info": {
      "name": "python"
    }
  },
  "cells": [
    {
      "cell_type": "markdown",
      "metadata": {
        "id": "view-in-github",
        "colab_type": "text"
      },
      "source": [
        "<a href=\"https://colab.research.google.com/github/Dasika-Vaishnavi/Wave2Web_forecast/blob/main/Json_and_Updating_frequency.ipynb\" target=\"_parent\"><img src=\"https://colab.research.google.com/assets/colab-badge.svg\" alt=\"Open In Colab\"/></a>"
      ]
    },
    {
      "cell_type": "code",
      "metadata": {
        "id": "WeCTMCP7Afwz"
      },
      "source": [
        "import warnings; \n",
        "warnings.simplefilter('ignore')"
      ],
      "execution_count": 1,
      "outputs": []
    },
    {
      "cell_type": "code",
      "metadata": {
        "colab": {
          "base_uri": "https://localhost:8080/"
        },
        "id": "ZjQ35cP0_tAW",
        "outputId": "c8e69ed6-dde8-402a-f262-902764e94985"
      },
      "source": [
        "!pip install pandas\n",
        "!pip install prophet"
      ],
      "execution_count": 2,
      "outputs": [
        {
          "output_type": "stream",
          "text": [
            "Requirement already satisfied: pandas in /usr/local/lib/python3.7/dist-packages (1.1.5)\n",
            "Requirement already satisfied: numpy>=1.15.4 in /usr/local/lib/python3.7/dist-packages (from pandas) (1.19.5)\n",
            "Requirement already satisfied: python-dateutil>=2.7.3 in /usr/local/lib/python3.7/dist-packages (from pandas) (2.8.1)\n",
            "Requirement already satisfied: pytz>=2017.2 in /usr/local/lib/python3.7/dist-packages (from pandas) (2018.9)\n",
            "Requirement already satisfied: six>=1.5 in /usr/local/lib/python3.7/dist-packages (from python-dateutil>=2.7.3->pandas) (1.15.0)\n",
            "Collecting prophet\n",
            "  Downloading prophet-1.0.1.tar.gz (65 kB)\n",
            "\u001b[K     |████████████████████████████████| 65 kB 2.1 MB/s \n",
            "\u001b[?25hRequirement already satisfied: Cython>=0.22 in /usr/local/lib/python3.7/dist-packages (from prophet) (0.29.23)\n",
            "Collecting cmdstanpy==0.9.68\n",
            "  Downloading cmdstanpy-0.9.68-py3-none-any.whl (49 kB)\n",
            "\u001b[K     |████████████████████████████████| 49 kB 3.3 MB/s \n",
            "\u001b[?25hRequirement already satisfied: pystan~=2.19.1.1 in /usr/local/lib/python3.7/dist-packages (from prophet) (2.19.1.1)\n",
            "Requirement already satisfied: numpy>=1.15.4 in /usr/local/lib/python3.7/dist-packages (from prophet) (1.19.5)\n",
            "Requirement already satisfied: pandas>=1.0.4 in /usr/local/lib/python3.7/dist-packages (from prophet) (1.1.5)\n",
            "Requirement already satisfied: matplotlib>=2.0.0 in /usr/local/lib/python3.7/dist-packages (from prophet) (3.2.2)\n",
            "Requirement already satisfied: LunarCalendar>=0.0.9 in /usr/local/lib/python3.7/dist-packages (from prophet) (0.0.9)\n",
            "Requirement already satisfied: convertdate>=2.1.2 in /usr/local/lib/python3.7/dist-packages (from prophet) (2.3.2)\n",
            "Requirement already satisfied: holidays>=0.10.2 in /usr/local/lib/python3.7/dist-packages (from prophet) (0.10.5.2)\n",
            "Requirement already satisfied: setuptools-git>=1.2 in /usr/local/lib/python3.7/dist-packages (from prophet) (1.2)\n",
            "Requirement already satisfied: python-dateutil>=2.8.0 in /usr/local/lib/python3.7/dist-packages (from prophet) (2.8.1)\n",
            "Requirement already satisfied: tqdm>=4.36.1 in /usr/local/lib/python3.7/dist-packages (from prophet) (4.41.1)\n",
            "Collecting ujson\n",
            "  Downloading ujson-4.0.2-cp37-cp37m-manylinux1_x86_64.whl (179 kB)\n",
            "\u001b[K     |████████████████████████████████| 179 kB 9.3 MB/s \n",
            "\u001b[?25hRequirement already satisfied: pytz>=2014.10 in /usr/local/lib/python3.7/dist-packages (from convertdate>=2.1.2->prophet) (2018.9)\n",
            "Requirement already satisfied: pymeeus<=1,>=0.3.13 in /usr/local/lib/python3.7/dist-packages (from convertdate>=2.1.2->prophet) (0.5.11)\n",
            "Requirement already satisfied: six in /usr/local/lib/python3.7/dist-packages (from holidays>=0.10.2->prophet) (1.15.0)\n",
            "Requirement already satisfied: korean-lunar-calendar in /usr/local/lib/python3.7/dist-packages (from holidays>=0.10.2->prophet) (0.2.1)\n",
            "Requirement already satisfied: hijri-converter in /usr/local/lib/python3.7/dist-packages (from holidays>=0.10.2->prophet) (2.1.3)\n",
            "Requirement already satisfied: ephem>=3.7.5.3 in /usr/local/lib/python3.7/dist-packages (from LunarCalendar>=0.0.9->prophet) (4.0.0.2)\n",
            "Requirement already satisfied: kiwisolver>=1.0.1 in /usr/local/lib/python3.7/dist-packages (from matplotlib>=2.0.0->prophet) (1.3.1)\n",
            "Requirement already satisfied: pyparsing!=2.0.4,!=2.1.2,!=2.1.6,>=2.0.1 in /usr/local/lib/python3.7/dist-packages (from matplotlib>=2.0.0->prophet) (2.4.7)\n",
            "Requirement already satisfied: cycler>=0.10 in /usr/local/lib/python3.7/dist-packages (from matplotlib>=2.0.0->prophet) (0.10.0)\n",
            "Building wheels for collected packages: prophet\n",
            "  Building wheel for prophet (setup.py) ... \u001b[?25l\u001b[?25hdone\n",
            "  Created wheel for prophet: filename=prophet-1.0.1-py3-none-any.whl size=6640423 sha256=9a4ebe776a7c1b824789c899b9f9273c187c1273ad2dbce1a39a13c5e9918789\n",
            "  Stored in directory: /root/.cache/pip/wheels/4e/a0/1a/02c9ec9e3e9de6bdbb3d769d11992a6926889d71567d6b9b67\n",
            "Successfully built prophet\n",
            "Installing collected packages: ujson, cmdstanpy, prophet\n",
            "  Attempting uninstall: cmdstanpy\n",
            "    Found existing installation: cmdstanpy 0.9.5\n",
            "    Uninstalling cmdstanpy-0.9.5:\n",
            "      Successfully uninstalled cmdstanpy-0.9.5\n",
            "\u001b[31mERROR: pip's dependency resolver does not currently take into account all the packages that are installed. This behaviour is the source of the following dependency conflicts.\n",
            "fbprophet 0.7.1 requires cmdstanpy==0.9.5, but you have cmdstanpy 0.9.68 which is incompatible.\u001b[0m\n",
            "Successfully installed cmdstanpy-0.9.68 prophet-1.0.1 ujson-4.0.2\n"
          ],
          "name": "stdout"
        }
      ]
    },
    {
      "cell_type": "markdown",
      "metadata": {
        "id": "jlt481KhA2f5"
      },
      "source": [
        "# 0. Install and import dependencies"
      ]
    },
    {
      "cell_type": "code",
      "metadata": {
        "id": "LM5XJwouBBRt"
      },
      "source": [
        "import pandas as pd\n",
        "from prophet import Prophet"
      ],
      "execution_count": 3,
      "outputs": []
    },
    {
      "cell_type": "markdown",
      "metadata": {
        "id": "K796dhSlBD7o"
      },
      "source": [
        "# 1. Read and process data"
      ]
    },
    {
      "cell_type": "code",
      "metadata": {
        "colab": {
          "base_uri": "https://localhost:8080/",
          "height": 195
        },
        "id": "xVILX0hsBIRc",
        "outputId": "73a0fdc4-9314-43b5-bed4-cc2a800d2523"
      },
      "source": [
        "df = pd.read_csv('/content/picchi_peaks.csv')\n",
        "df['Year'] = df['FLOW_DATE'].apply(lambda x: str(x)[-4:])\n",
        "df['Month'] = df['FLOW_DATE'].apply(lambda x: str(x)[-6:-4])\n",
        "df['Day'] = df['FLOW_DATE'].apply(lambda x: str(x)[:-6])\n",
        "df['ds'] = pd.DatetimeIndex(df['Day']+'-'+df['Year'])\n",
        "df.drop(['FLOW_DATE', 'Year', 'Month', 'Day'], axis=1, inplace=True)\n",
        "df.head()"
      ],
      "execution_count": 5,
      "outputs": [
        {
          "output_type": "execute_result",
          "data": {
            "text/html": [
              "<div>\n",
              "<style scoped>\n",
              "    .dataframe tbody tr th:only-of-type {\n",
              "        vertical-align: middle;\n",
              "    }\n",
              "\n",
              "    .dataframe tbody tr th {\n",
              "        vertical-align: top;\n",
              "    }\n",
              "\n",
              "    .dataframe thead th {\n",
              "        text-align: right;\n",
              "    }\n",
              "</style>\n",
              "<table border=\"1\" class=\"dataframe\">\n",
              "  <thead>\n",
              "    <tr style=\"text-align: right;\">\n",
              "      <th></th>\n",
              "      <th>y</th>\n",
              "      <th>ds</th>\n",
              "    </tr>\n",
              "  </thead>\n",
              "  <tbody>\n",
              "    <tr>\n",
              "      <th>0</th>\n",
              "      <td>46.42</td>\n",
              "      <td>2011-01-01</td>\n",
              "    </tr>\n",
              "    <tr>\n",
              "      <th>1</th>\n",
              "      <td>46.54</td>\n",
              "      <td>2011-01-01</td>\n",
              "    </tr>\n",
              "    <tr>\n",
              "      <th>2</th>\n",
              "      <td>46.64</td>\n",
              "      <td>2011-01-01</td>\n",
              "    </tr>\n",
              "    <tr>\n",
              "      <th>3</th>\n",
              "      <td>46.69</td>\n",
              "      <td>2011-01-01</td>\n",
              "    </tr>\n",
              "    <tr>\n",
              "      <th>4</th>\n",
              "      <td>46.70</td>\n",
              "      <td>2011-01-01</td>\n",
              "    </tr>\n",
              "  </tbody>\n",
              "</table>\n",
              "</div>"
            ],
            "text/plain": [
              "       y         ds\n",
              "0  46.42 2011-01-01\n",
              "1  46.54 2011-01-01\n",
              "2  46.64 2011-01-01\n",
              "3  46.69 2011-01-01\n",
              "4  46.70 2011-01-01"
            ]
          },
          "metadata": {
            "tags": []
          },
          "execution_count": 5
        }
      ]
    },
    {
      "cell_type": "markdown",
      "metadata": {
        "id": "4Pkyeq2wBRMw"
      },
      "source": [
        "# 2. Train the model"
      ]
    },
    {
      "cell_type": "code",
      "metadata": {
        "id": "4-pH-EhNBUnr"
      },
      "source": [
        "m = Prophet(interval_width=0.95, daily_seasonality=True)\n",
        "model = m.fit(df)"
      ],
      "execution_count": 6,
      "outputs": []
    },
    {
      "cell_type": "markdown",
      "metadata": {
        "id": "S5u4WKt1BYsJ"
      },
      "source": [
        "# 3. Forecasting the data"
      ]
    },
    {
      "cell_type": "code",
      "metadata": {
        "colab": {
          "base_uri": "https://localhost:8080/",
          "height": 299
        },
        "id": "K2tmACf6BeFw",
        "outputId": "cd2f90c6-075f-4ba0-88bf-971a10ace038"
      },
      "source": [
        "future = m.make_future_dataframe(periods=100,freq='D')\n",
        "forecast = m.predict(future)\n",
        "forecast.head()"
      ],
      "execution_count": 7,
      "outputs": [
        {
          "output_type": "execute_result",
          "data": {
            "text/html": [
              "<div>\n",
              "<style scoped>\n",
              "    .dataframe tbody tr th:only-of-type {\n",
              "        vertical-align: middle;\n",
              "    }\n",
              "\n",
              "    .dataframe tbody tr th {\n",
              "        vertical-align: top;\n",
              "    }\n",
              "\n",
              "    .dataframe thead th {\n",
              "        text-align: right;\n",
              "    }\n",
              "</style>\n",
              "<table border=\"1\" class=\"dataframe\">\n",
              "  <thead>\n",
              "    <tr style=\"text-align: right;\">\n",
              "      <th></th>\n",
              "      <th>ds</th>\n",
              "      <th>trend</th>\n",
              "      <th>yhat_lower</th>\n",
              "      <th>yhat_upper</th>\n",
              "      <th>trend_lower</th>\n",
              "      <th>trend_upper</th>\n",
              "      <th>additive_terms</th>\n",
              "      <th>additive_terms_lower</th>\n",
              "      <th>additive_terms_upper</th>\n",
              "      <th>daily</th>\n",
              "      <th>daily_lower</th>\n",
              "      <th>daily_upper</th>\n",
              "      <th>weekly</th>\n",
              "      <th>weekly_lower</th>\n",
              "      <th>weekly_upper</th>\n",
              "      <th>yearly</th>\n",
              "      <th>yearly_lower</th>\n",
              "      <th>yearly_upper</th>\n",
              "      <th>multiplicative_terms</th>\n",
              "      <th>multiplicative_terms_lower</th>\n",
              "      <th>multiplicative_terms_upper</th>\n",
              "      <th>yhat</th>\n",
              "    </tr>\n",
              "  </thead>\n",
              "  <tbody>\n",
              "    <tr>\n",
              "      <th>0</th>\n",
              "      <td>2010-09-03</td>\n",
              "      <td>46.058854</td>\n",
              "      <td>45.279079</td>\n",
              "      <td>70.410992</td>\n",
              "      <td>46.058854</td>\n",
              "      <td>46.058854</td>\n",
              "      <td>11.620017</td>\n",
              "      <td>11.620017</td>\n",
              "      <td>11.620017</td>\n",
              "      <td>1.036155</td>\n",
              "      <td>1.036155</td>\n",
              "      <td>1.036155</td>\n",
              "      <td>0.193177</td>\n",
              "      <td>0.193177</td>\n",
              "      <td>0.193177</td>\n",
              "      <td>10.390685</td>\n",
              "      <td>10.390685</td>\n",
              "      <td>10.390685</td>\n",
              "      <td>0.0</td>\n",
              "      <td>0.0</td>\n",
              "      <td>0.0</td>\n",
              "      <td>57.678871</td>\n",
              "    </tr>\n",
              "    <tr>\n",
              "      <th>1</th>\n",
              "      <td>2010-12-03</td>\n",
              "      <td>42.335766</td>\n",
              "      <td>36.856962</td>\n",
              "      <td>61.460086</td>\n",
              "      <td>42.335766</td>\n",
              "      <td>42.335766</td>\n",
              "      <td>7.113038</td>\n",
              "      <td>7.113038</td>\n",
              "      <td>7.113038</td>\n",
              "      <td>1.036155</td>\n",
              "      <td>1.036155</td>\n",
              "      <td>1.036155</td>\n",
              "      <td>0.193177</td>\n",
              "      <td>0.193177</td>\n",
              "      <td>0.193177</td>\n",
              "      <td>5.883706</td>\n",
              "      <td>5.883706</td>\n",
              "      <td>5.883706</td>\n",
              "      <td>0.0</td>\n",
              "      <td>0.0</td>\n",
              "      <td>0.0</td>\n",
              "      <td>49.448804</td>\n",
              "    </tr>\n",
              "    <tr>\n",
              "      <th>2</th>\n",
              "      <td>2011-01-01</td>\n",
              "      <td>41.149287</td>\n",
              "      <td>33.815952</td>\n",
              "      <td>58.678003</td>\n",
              "      <td>41.149287</td>\n",
              "      <td>41.149287</td>\n",
              "      <td>4.769734</td>\n",
              "      <td>4.769734</td>\n",
              "      <td>4.769734</td>\n",
              "      <td>1.036155</td>\n",
              "      <td>1.036155</td>\n",
              "      <td>1.036155</td>\n",
              "      <td>0.076082</td>\n",
              "      <td>0.076082</td>\n",
              "      <td>0.076082</td>\n",
              "      <td>3.657498</td>\n",
              "      <td>3.657498</td>\n",
              "      <td>3.657498</td>\n",
              "      <td>0.0</td>\n",
              "      <td>0.0</td>\n",
              "      <td>0.0</td>\n",
              "      <td>45.919021</td>\n",
              "    </tr>\n",
              "    <tr>\n",
              "      <th>3</th>\n",
              "      <td>2011-01-02</td>\n",
              "      <td>41.108374</td>\n",
              "      <td>32.588800</td>\n",
              "      <td>57.822808</td>\n",
              "      <td>41.108374</td>\n",
              "      <td>41.108374</td>\n",
              "      <td>4.555793</td>\n",
              "      <td>4.555793</td>\n",
              "      <td>4.555793</td>\n",
              "      <td>1.036155</td>\n",
              "      <td>1.036155</td>\n",
              "      <td>1.036155</td>\n",
              "      <td>0.305051</td>\n",
              "      <td>0.305051</td>\n",
              "      <td>0.305051</td>\n",
              "      <td>3.214588</td>\n",
              "      <td>3.214588</td>\n",
              "      <td>3.214588</td>\n",
              "      <td>0.0</td>\n",
              "      <td>0.0</td>\n",
              "      <td>0.0</td>\n",
              "      <td>45.664167</td>\n",
              "    </tr>\n",
              "    <tr>\n",
              "      <th>4</th>\n",
              "      <td>2011-01-03</td>\n",
              "      <td>41.067461</td>\n",
              "      <td>33.897549</td>\n",
              "      <td>57.434181</td>\n",
              "      <td>41.067461</td>\n",
              "      <td>41.067461</td>\n",
              "      <td>4.011792</td>\n",
              "      <td>4.011792</td>\n",
              "      <td>4.011792</td>\n",
              "      <td>1.036155</td>\n",
              "      <td>1.036155</td>\n",
              "      <td>1.036155</td>\n",
              "      <td>0.351497</td>\n",
              "      <td>0.351497</td>\n",
              "      <td>0.351497</td>\n",
              "      <td>2.624141</td>\n",
              "      <td>2.624141</td>\n",
              "      <td>2.624141</td>\n",
              "      <td>0.0</td>\n",
              "      <td>0.0</td>\n",
              "      <td>0.0</td>\n",
              "      <td>45.079253</td>\n",
              "    </tr>\n",
              "  </tbody>\n",
              "</table>\n",
              "</div>"
            ],
            "text/plain": [
              "          ds      trend  ...  multiplicative_terms_upper       yhat\n",
              "0 2010-09-03  46.058854  ...                         0.0  57.678871\n",
              "1 2010-12-03  42.335766  ...                         0.0  49.448804\n",
              "2 2011-01-01  41.149287  ...                         0.0  45.919021\n",
              "3 2011-01-02  41.108374  ...                         0.0  45.664167\n",
              "4 2011-01-03  41.067461  ...                         0.0  45.079253\n",
              "\n",
              "[5 rows x 22 columns]"
            ]
          },
          "metadata": {
            "tags": []
          },
          "execution_count": 7
        }
      ]
    },
    {
      "cell_type": "code",
      "metadata": {
        "id": "rxy3Gjz78tUo"
      },
      "source": [
        "import json\n",
        "from prophet.serialize import model_to_json, model_from_json\n",
        "\n",
        "with open('serialized_model.json', 'w') as fout:\n",
        "    json.dump(model_to_json(m), fout)  # Save model\n",
        "\n",
        "with open('serialized_model.json', 'r') as fin:\n",
        "    m = model_from_json(json.load(fin)) "
      ],
      "execution_count": 8,
      "outputs": []
    },
    {
      "cell_type": "code",
      "metadata": {
        "id": "A2Z45xlt9B74"
      },
      "source": [
        "m = Prophet(growth='flat')\n"
      ],
      "execution_count": 9,
      "outputs": []
    },
    {
      "cell_type": "code",
      "metadata": {
        "colab": {
          "base_uri": "https://localhost:8080/"
        },
        "id": "mP5OsIyX9Fhv",
        "outputId": "3c0b284c-3933-4bf7-c1df-2d92f6d7d241"
      },
      "source": [
        "def stan_init(m):\n",
        "    \"\"\"Retrieve parameters from a trained model.\n",
        "    \n",
        "    Retrieve parameters from a trained model in the format\n",
        "    used to initialize a new Stan model.\n",
        "    \n",
        "    Parameters\n",
        "    ----------\n",
        "    m: A trained model of the Prophet class.\n",
        "    \n",
        "    Returns\n",
        "    -------\n",
        "    A Dictionary containing retrieved parameters of m.\n",
        "    \n",
        "    \"\"\"\n",
        "    res = {}\n",
        "    for pname in ['k', 'm', 'sigma_obs']:\n",
        "        res[pname] = m.params[pname][0][0]\n",
        "    for pname in ['delta', 'beta']:\n",
        "        res[pname] = m.params[pname][0]\n",
        "    return res\n",
        "df1 = df.loc[df['ds'] < '2016-01-19', :]  # All data except the last day\n",
        "m1 = Prophet().fit(df1) # A model fit to all data except the last day\n",
        "\n",
        "\n",
        "%timeit m2 = Prophet().fit(df)  # Adding the last day, fitting from scratch\n",
        "%timeit m2 = Prophet().fit(df, init=stan_init(m1))  # Adding the last day, warm-starting from m1\n"
      ],
      "execution_count": 11,
      "outputs": [
        {
          "output_type": "stream",
          "text": [
            "INFO:prophet:Disabling daily seasonality. Run prophet with daily_seasonality=True to override this.\n",
            "INFO:prophet:Disabling daily seasonality. Run prophet with daily_seasonality=True to override this.\n",
            "INFO:prophet:Disabling daily seasonality. Run prophet with daily_seasonality=True to override this.\n",
            "INFO:prophet:Disabling daily seasonality. Run prophet with daily_seasonality=True to override this.\n",
            "INFO:prophet:Disabling daily seasonality. Run prophet with daily_seasonality=True to override this.\n",
            "INFO:prophet:Disabling daily seasonality. Run prophet with daily_seasonality=True to override this.\n",
            "INFO:prophet:Disabling daily seasonality. Run prophet with daily_seasonality=True to override this.\n",
            "INFO:prophet:Disabling daily seasonality. Run prophet with daily_seasonality=True to override this.\n"
          ],
          "name": "stderr"
        },
        {
          "output_type": "stream",
          "text": [
            "1 loop, best of 5: 1.83 s per loop\n"
          ],
          "name": "stdout"
        },
        {
          "output_type": "stream",
          "text": [
            "INFO:prophet:Disabling daily seasonality. Run prophet with daily_seasonality=True to override this.\n",
            "INFO:prophet:Disabling daily seasonality. Run prophet with daily_seasonality=True to override this.\n",
            "INFO:prophet:Disabling daily seasonality. Run prophet with daily_seasonality=True to override this.\n",
            "INFO:prophet:Disabling daily seasonality. Run prophet with daily_seasonality=True to override this.\n",
            "INFO:prophet:Disabling daily seasonality. Run prophet with daily_seasonality=True to override this.\n"
          ],
          "name": "stderr"
        },
        {
          "output_type": "stream",
          "text": [
            "1 loop, best of 5: 1.73 s per loop\n"
          ],
          "name": "stdout"
        }
      ]
    }
  ]
}