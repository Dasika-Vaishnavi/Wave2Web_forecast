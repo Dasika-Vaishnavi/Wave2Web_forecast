{
  "nbformat": 4,
  "nbformat_minor": 0,
  "metadata": {
    "colab": {
      "name": "Wave2web_parametric_correlation(generalized parameter through coefficient of correlation).ipynb",
      "provenance": [],
      "authorship_tag": "ABX9TyOUfP9GXa/vGodRvVm4mC3O",
      "include_colab_link": true
    },
    "kernelspec": {
      "name": "python3",
      "display_name": "Python 3"
    },
    "language_info": {
      "name": "python"
    }
  },
  "cells": [
    {
      "cell_type": "markdown",
      "metadata": {
        "id": "view-in-github",
        "colab_type": "text"
      },
      "source": [
        "<a href=\"https://colab.research.google.com/github/Dasika-Vaishnavi/Wave2Web_forecast/blob/main/Wave2web_parametric_correlation(generalized_parameter_through_coefficient_of_correlation).ipynb\" target=\"_parent\"><img src=\"https://colab.research.google.com/assets/colab-badge.svg\" alt=\"Open In Colab\"/></a>"
      ]
    },
    {
      "cell_type": "markdown",
      "metadata": {
        "id": "c8yoJq_gNh8e"
      },
      "source": [
        "# r2_score between res_level and outflow"
      ]
    },
    {
      "cell_type": "code",
      "metadata": {
        "colab": {
          "base_uri": "https://localhost:8080/",
          "height": 298
        },
        "id": "8yXA51JVNaf4",
        "outputId": "58036fe5-9c56-45c5-ecf3-d78987bf4e71"
      },
      "source": [
        "import pandas as pd\n",
        "import datetime\n",
        "import sklearn as sk\n",
        "import matplotlib.pyplot as plt\n",
        "import matplotlib.path as pt\n",
        "import warnings\n",
        "from sklearn import pipeline,preprocessing,metrics,model_selection,ensemble\n",
        "from sklearn_pandas import DataFrameMapper\n",
        "data = pd.read_csv(r\"/content/data.csv\",date_parser=[\"UNIQUE_KEY\"])\n",
        "\n",
        "from sklearn.metrics import r2_score\n",
        "import numpy as np\n",
        "X = data.OUTFLOW_CUECS\n",
        "Y = data.RES_LEVEL_FT\n",
        "train_x = X[:2000]\n",
        "train_y = Y[:2000]\n",
        "test_x = X[2000:]\n",
        "test_y = Y[2000:]\n",
        "my_model = np.poly1d(np.polyfit(train_x,train_y,4))\n",
        "r2 =r2_score(test_y,(my_model(test_x)))\n",
        "print(r2)\n",
        "(plt.scatter(X,Y))"
      ],
      "execution_count": 1,
      "outputs": [
        {
          "output_type": "stream",
          "text": [
            "0.15011540134977575\n"
          ],
          "name": "stdout"
        },
        {
          "output_type": "execute_result",
          "data": {
            "text/plain": [
              "<matplotlib.collections.PathCollection at 0x7fd4942fb810>"
            ]
          },
          "metadata": {
            "tags": []
          },
          "execution_count": 1
        },
        {
          "output_type": "display_data",
          "data": {
            "image/png": "[encoded data removed]",
            "text/plain": [
              "<Figure size 432x288 with 1 Axes>"
            ]
          },
          "metadata": {
            "tags": [],
            "needs_background": "light"
          }
        }
      ]
    },
    {
      "cell_type": "markdown",
      "metadata": {
        "id": "hdZdsa3JNvgj"
      },
      "source": [
        "# r2_score b/w res_level and present_storage_tmc"
      ]
    },
    {
      "cell_type": "code",
      "metadata": {
        "colab": {
          "base_uri": "https://localhost:8080/",
          "height": 298
        },
        "id": "8zVWHk9GN0Wo",
        "outputId": "8741e41a-a985-417d-f7c3-6e8117470eaf"
      },
      "source": [
        "import pandas as pd\n",
        "import datetime\n",
        "import sklearn as sk\n",
        "import matplotlib.pyplot as plt\n",
        "import matplotlib.path as pt\n",
        "import warnings\n",
        "from sklearn import pipeline,preprocessing,metrics,model_selection,ensemble\n",
        "from sklearn_pandas import DataFrameMapper\n",
        "data = pd.read_csv(r\"/content/data.csv\",date_parser=[\"UNIQUE_KEY\"])\n",
        "\n",
        "from sklearn.metrics import r2_score\n",
        "import numpy as np\n",
        "X = data.RES_LEVEL_FT\n",
        "Y = data.PRESENT_STORAGE_TMC\n",
        "train_x = X[:2000]\n",
        "train_y = Y[:2000]\n",
        "test_x = X[2000:]\n",
        "test_y = Y[2000:]\n",
        "my_model = np.poly1d(np.polyfit(train_x,train_y,4))\n",
        "r2 =r2_score(test_y,(my_model(test_x)))\n",
        "print(r2)\n",
        "plt.scatter(X,Y)"
      ],
      "execution_count": 3,
      "outputs": [
        {
          "output_type": "stream",
          "text": [
            "0.9999376954321085\n"
          ],
          "name": "stdout"
        },
        {
          "output_type": "execute_result",
          "data": {
            "text/plain": [
              "<matplotlib.collections.PathCollection at 0x7fd494376d10>"
            ]
          },
          "metadata": {
            "tags": []
          },
          "execution_count": 3
        },
        {
          "output_type": "display_data",
          "data": {
            "image/png": "[encoded data removed]",
            "text/plain": [
              "<Figure size 432x288 with 1 Axes>"
            ]
          },
          "metadata": {
            "tags": [],
            "needs_background": "light"
          }
        }
      ]
    },
    {
      "cell_type": "markdown",
      "metadata": {
        "id": "JhAV4dPDOEcT"
      },
      "source": [
        "# r2_score b/w inflow_cusecs and res_level"
      ]
    },
    {
      "cell_type": "code",
      "metadata": {
        "colab": {
          "base_uri": "https://localhost:8080/",
          "height": 298
        },
        "id": "1tSA4JCZN8-s",
        "outputId": "64662784-26c3-44b7-d64d-5b2a429db210"
      },
      "source": [
        "import pandas as pd\n",
        "import datetime\n",
        "import sklearn as sk\n",
        "import matplotlib.pyplot as plt\n",
        "import matplotlib.path as pt\n",
        "import warnings\n",
        "from sklearn import pipeline,preprocessing,metrics,model_selection,ensemble\n",
        "from sklearn_pandas import DataFrameMapper\n",
        "data = pd.read_csv(r\"/content/data.csv\",date_parser=[\"UNIQUE_KEY\"])\n",
        "\n",
        "from sklearn.metrics import r2_score\n",
        "import numpy as np\n",
        "X = data.INFLOW_CUSECS\n",
        "Y = data.RES_LEVEL_FT\n",
        "train_x = X[:2000]\n",
        "train_y = Y[:2000]\n",
        "test_x = X[2000:]\n",
        "test_y = Y[2000:]\n",
        "my_model = np.poly1d(np.polyfit(train_x,train_y,4))\n",
        "r2 =r2_score(test_y,(my_model(test_x)))\n",
        "print(r2)\n",
        "plt.scatter(X,Y)"
      ],
      "execution_count": 4,
      "outputs": [
        {
          "output_type": "stream",
          "text": [
            "0.12050727447555731\n"
          ],
          "name": "stdout"
        },
        {
          "output_type": "execute_result",
          "data": {
            "text/plain": [
              "<matplotlib.collections.PathCollection at 0x7fd4985c22d0>"
            ]
          },
          "metadata": {
            "tags": []
          },
          "execution_count": 4
        },
        {
          "output_type": "display_data",
          "data": {
            "image/png": "[encoded data removed]",
            "text/plain": [
              "<Figure size 432x288 with 1 Axes>"
            ]
          },
          "metadata": {
            "tags": [],
            "needs_background": "light"
          }
        }
      ]
    },
    {
      "cell_type": "markdown",
      "metadata": {
        "id": "7FTHV6NmOWM3"
      },
      "source": [
        "# 'y' column = sum (parameter(r2_score))\n",
        "## the y column used in the time series model is the summation of the parametric values as taken as the function of r2_score."
      ]
    }
  ]
}